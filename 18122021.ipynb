{
  "nbformat": 4,
  "nbformat_minor": 0,
  "metadata": {
    "colab": {
      "name": "18122021.ipynb",
      "provenance": [],
      "collapsed_sections": [],
      "authorship_tag": "ABX9TyONNf5ficdBQ6ZkXI2LTEVv",
      "include_colab_link": true
    },
    "kernelspec": {
      "name": "python3",
      "display_name": "Python 3"
    },
    "language_info": {
      "name": "python"
    }
  },
  "cells": [
    {
      "cell_type": "markdown",
      "metadata": {
        "id": "view-in-github",
        "colab_type": "text"
      },
      "source": [
        "<a href=\"https://colab.research.google.com/github/TEJ66/TEJ66/blob/main/18122021.ipynb\" target=\"_parent\"><img src=\"https://colab.research.google.com/assets/colab-badge.svg\" alt=\"Open In Colab\"/></a>"
      ]
    },
    {
      "cell_type": "code",
      "source": [
        "print(\"EXCHANGE THE VALUES OF TWO VARIABLES\")\n",
        "\n",
        "v1 = int(input(\"ENTER THE VALUE OF VARIABLE 1 = \"))\n",
        "v2 = int(input(\"ENTER THE VALUE OF VARIABLE 2 = \"))\n",
        "\n",
        "print(\"Before Exchange\",\"\\n\",\"VARIABLE 1 :\",v1,\"\\n\",\"VARIABLE 2 :\",v2)\n",
        "v1,v2 = v2,v1\n",
        "print(\"After Exchange\",\"\\n\",\"VARIABLE 1 :\",v1,\"\\n\",\"VARIABLE 2 :\",v2)"
      ],
      "metadata": {
        "colab": {
          "base_uri": "https://localhost:8080/"
        },
        "id": "lUbyLyl4Axff",
        "outputId": "4a26301a-8250-4b1a-f7d3-d648039caea9"
      },
      "execution_count": 2,
      "outputs": [
        {
          "output_type": "stream",
          "name": "stdout",
          "text": [
            "EXCHANGE THE VALUES OF TWO VARIABLES\n",
            "ENTER THE VALUE OF VARIABLE 1 = 1\n",
            "ENTER THE VALUE OF VARIABLE 2 = 5\n",
            "Before Exchange \n",
            " VARIABLE 1 : 1 \n",
            " VARIABLE 2 : 5\n",
            "After Exchange \n",
            " VARIABLE 1 : 5 \n",
            " VARIABLE 2 : 1\n"
          ]
        }
      ]
    },
    {
      "cell_type": "code",
      "source": [
        "print(\"DISTANCE BETWEEN TWO POINTS\")\n",
        "\n",
        "x1 = float(input(\"ENTER x1 : \"))\n",
        "y1 = float(input(\"ENTER y1 : \"))\n",
        "\n",
        "x2 = float(input(\"ENTER x2 : \"))\n",
        "y2 = float(input(\"ENTER y2 : \"))\n",
        "\n",
        "D = ((x2-x1)**2+(y2-y1)**2)**0.5\n",
        "\n",
        "print(\"DISTANCE = \",D)"
      ],
      "metadata": {
        "colab": {
          "base_uri": "https://localhost:8080/"
        },
        "id": "km_tzRQUDb7V",
        "outputId": "bf5f76e4-9521-4d3a-89f1-fecb0f8e4e3f"
      },
      "execution_count": 3,
      "outputs": [
        {
          "output_type": "stream",
          "name": "stdout",
          "text": [
            "DISTANCE BETWEEN TWO POINTS\n",
            "ENTER x1 : 15\n",
            "ENTER y1 : 90\n",
            "ENTER x2 : 35\n",
            "ENTER y2 : 65\n",
            "DISTANCE =  32.01562118716424\n"
          ]
        }
      ]
    },
    {
      "cell_type": "code",
      "source": [
        "n = int(input(\"Enter number of values : \"))\n",
        "list1 = []\n",
        "for val in range (0,n) :\n",
        "  e = int(input(\"Enter integer :\"))\n",
        "  list1.append(e)\n",
        "print(\"cirulating the elements of list\",list1)\n",
        "\n",
        "for i in range(0,n) :\n",
        "  Result = list1[i:] + list1[:i]\n",
        "  print(Result)\n",
        "  "
      ],
      "metadata": {
        "colab": {
          "base_uri": "https://localhost:8080/"
        },
        "id": "NTDOst6cF9vi",
        "outputId": "ebd0f6bd-758f-460e-dc27-bb08959048c8"
      },
      "execution_count": 5,
      "outputs": [
        {
          "output_type": "stream",
          "name": "stdout",
          "text": [
            "Enter number of values : 5\n",
            "Enter integer :1\n",
            "Enter integer :2\n",
            "Enter integer :3\n",
            "Enter integer :4\n",
            "Enter integer :5\n",
            "cirulating the elements of list [1, 2, 3, 4, 5]\n",
            "[1, 2, 3, 4, 5]\n",
            "[2, 3, 4, 5, 1]\n",
            "[3, 4, 5, 1, 2]\n",
            "[4, 5, 1, 2, 3]\n",
            "[5, 1, 2, 3, 4]\n"
          ]
        }
      ]
    }
  ]
}