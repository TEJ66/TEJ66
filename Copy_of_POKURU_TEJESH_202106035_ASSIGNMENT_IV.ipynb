{
  "nbformat": 4,
  "nbformat_minor": 0,
  "metadata": {
    "colab": {
      "name": "Copy of POKURU TEJESH-202106035 ASSIGNMENT-IV.ipynb",
      "provenance": [],
      "collapsed_sections": [],
      "authorship_tag": "ABX9TyPswX6EpTzi3WikDyi0v76Q",
      "include_colab_link": true
    },
    "kernelspec": {
      "name": "python3",
      "display_name": "Python 3"
    },
    "language_info": {
      "name": "python"
    }
  },
  "cells": [
    {
      "cell_type": "markdown",
      "metadata": {
        "id": "view-in-github",
        "colab_type": "text"
      },
      "source": [
        "<a href=\"https://colab.research.google.com/github/TEJ66/TEJ66/blob/main/Copy_of_POKURU_TEJESH_202106035_ASSIGNMENT_IV.ipynb\" target=\"_parent\"><img src=\"https://colab.research.google.com/assets/colab-badge.svg\" alt=\"Open In Colab\"/></a>"
      ]
    },
    {
      "cell_type": "markdown",
      "source": [
        "\n",
        "1. Develop a python program to generate Students marks statement using    dictionary."
      ],
      "metadata": {
        "id": "NFtECDLlYaVW"
      }
    },
    {
      "cell_type": "code",
      "execution_count": null,
      "metadata": {
        "colab": {
          "base_uri": "https://localhost:8080/"
        },
        "id": "xOEV-dxGWlPs",
        "outputId": "c3fb4dd8-45a5-4862-ded1-505d74fe4bef"
      },
      "outputs": [
        {
          "output_type": "stream",
          "name": "stdout",
          "text": [
            "Enter the total number of students  : 3\n",
            "Student name : POKURU TEJESH\n",
            "Enter English Mark    : 90\n",
            "Enter Maths Mark      : 80\n",
            "Enter Physics Mark    : 60\n",
            "Enter Chemistry Mark  : 70\n",
            "Enter Python Marks    : 88\n",
            "Student name : PRUDVI\n",
            "Enter English Mark    : 66\n",
            "Enter Maths Mark      : 76\n",
            "Enter Physics Mark    : 86\n",
            "Enter Chemistry Mark  : 96\n",
            "Enter Python Marks    : 55\n",
            "Student name : NITHIN\n",
            "Enter English Mark    : 88\n",
            "Enter Maths Mark      : 58\n",
            "Enter Physics Mark    : 78\n",
            "Enter Chemistry Mark  : 68\n",
            "Enter Python Marks    : 94\n",
            "{'POKURU TEJESH': {'English': 90.0, 'Maths': 80.0, 'Physics': 60.0, 'Chemistry': 70.0, 'Total': 388.0, 'Average': 77.6, 'Grade': 'B'}, 'PRUDVI': {'English': 66.0, 'Maths': 76.0, 'Physics': 86.0, 'Chemistry': 96.0, 'Total': 379.0, 'Average': 75.8, 'Grade': 'B'}, 'NITHIN': {'English': 88.0, 'Maths': 58.0, 'Physics': 78.0, 'Chemistry': 68.0, 'Total': 386.0, 'Average': 77.2, 'Grade': 'B'}}\n"
          ]
        }
      ],
      "source": [
        "# Write your code here\n",
        "dict1={}\n",
        "n=int(input('Enter the total number of students  : '))\n",
        "for i in range(n):\n",
        "  name=input('Student name : ')\n",
        "  eng=float(input('Enter English Mark    : '))\n",
        "  math=float(input('Enter Maths Mark      : '))\n",
        "  phy=float(input('Enter Physics Mark    : '))\n",
        "  chem=float(input('Enter Chemistry Mark  : '))\n",
        "  pyt=float(input('Enter Python Marks    : '))\n",
        "  tot=float(eng+math+phy+chem+pyt)\n",
        "  avg=tot/5\n",
        "  if avg>=90 and eng>=50 and math>=50 and phy >=50 and chem>=50 and pyt>=50:\n",
        "    grade ='A'\n",
        "  elif avg<90 and avg>=70 and eng>=50 and math>=50 and phy >=50 and chem>=50 and pyt>=50:\n",
        "    grade='B'\n",
        "  elif avg<70 and avg>=50 and eng>=50 and math>=50 and phy >=50 and chem>=50 and pyt>=50:\n",
        "    grade='C'\n",
        "  else:\n",
        "    grade='Fail - No Grade'\n",
        "  mark={'English':eng,'Maths':math,'Physics':phy,'Chemistry':chem,'Total':tot,'Average':avg,'Grade':grade}\n",
        "  dict1[name]=mark\n",
        "print(dict1)"
      ]
    },
    {
      "cell_type": "markdown",
      "source": [
        "2. Develop a python program to generate Retail bill preparation using list"
      ],
      "metadata": {
        "id": "7xJAPt0iXOD7"
      }
    },
    {
      "cell_type": "code",
      "source": [
        "#Write your code here\n",
        "items=['Carrot','onion','raddish','Garlic','potato']\n",
        "price=[30,50,60,40,70]\n",
        "print('''\n",
        "Product - Price List:\n",
        "  1.Carrot    -Rs.30/kg\n",
        "  2.onion     -Rs.50/kg\n",
        "  3.raddish   -Rs.60/kg\n",
        "  4.Garlic     -Rs.40/kg\n",
        "  5.potato    -Rs.70/kg\n",
        "''')\n",
        "a1=[]\n",
        "a2=[]\n",
        "a3=[]\n",
        "qty1=[]\n",
        "while True:\n",
        "  i=int(input('\\nEnter the product Number: '))\n",
        "  qty=int(input('enter quantity: '))\n",
        "  qty1.append(qty)\n",
        "  a1.append(items[i-1])\n",
        "  a2.append(price[i-1])\n",
        "  a4=a2[-1]*qty\n",
        "  a3.append(a4)\n",
        "  ch=int(input('\\npress 1 to continue and 0 to exit: '))\n",
        "  if ch!=1:\n",
        "    break\n",
        "sum=0\n",
        "for i in range(len(a3)):\n",
        "  sum+=a3[i]\n",
        "  sum=float(sum)\n",
        "print('\\n****** RETAIL BILL******')\n",
        "print('\\nProducts  : ',a1,'\\nQuantity  : ',qty1,'\\nPrice     : ',a3)\n",
        "print('\\n**TOTAL BILL AMOUNT  :Rs.',sum)"
      ],
      "metadata": {
        "colab": {
          "base_uri": "https://localhost:8080/"
        },
        "id": "MpQwsMBIXXrJ",
        "outputId": "2a129452-8b30-4785-e3b4-326f3520c7c3"
      },
      "execution_count": null,
      "outputs": [
        {
          "output_type": "stream",
          "name": "stdout",
          "text": [
            "\n",
            "Product - Price List:\n",
            "  1.Carrot    -Rs.30/kg\n",
            "  2.onion     -Rs.50/kg\n",
            "  3.raddish   -Rs.60/kg\n",
            "  4.Garlic     -Rs.40/kg\n",
            "  5.potato    -Rs.70/kg\n",
            "\n",
            "\n",
            "Enter the product Number: 2\n",
            "enter quantity: 1\n",
            "\n",
            "press 1 to continue and 0 to exit: 1\n",
            "\n",
            "Enter the product Number: 5\n",
            "enter quantity: 1\n",
            "\n",
            "press 1 to continue and 0 to exit: 1\n",
            "\n",
            "Enter the product Number: 3\n",
            "enter quantity: 1\n",
            "\n",
            "press 1 to continue and 0 to exit: 1\n",
            "\n",
            "Enter the product Number: 1\n",
            "enter quantity: 1\n",
            "\n",
            "press 1 to continue and 0 to exit: 1\n",
            "\n",
            "Enter the product Number: 4\n",
            "enter quantity: 1\n",
            "\n",
            "press 1 to continue and 0 to exit: 1\n",
            "\n",
            "Enter the product Number: 2\n",
            "enter quantity: 2\n",
            "\n",
            "press 1 to continue and 0 to exit: 2\n",
            "\n",
            "****** RETAIL BILL******\n",
            "\n",
            "Products  :  ['onion', 'potato', 'raddish', 'Carrot', 'Garlic', 'onion'] \n",
            "Quantity  :  [1, 1, 1, 1, 1, 2] \n",
            "Price     :  [50, 70, 60, 30, 40, 100]\n",
            "\n",
            "**TOTAL BILL AMOUNT  :Rs. 350.0\n"
          ]
        }
      ]
    }
  ]
}