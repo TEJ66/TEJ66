{
  "nbformat": 4,
  "nbformat_minor": 0,
  "metadata": {
    "colab": {
      "name": "17122021.ipynb",
      "provenance": [],
      "collapsed_sections": [],
      "authorship_tag": "ABX9TyM/feDdrWzlLA94ak5kQh3H",
      "include_colab_link": true
    },
    "kernelspec": {
      "name": "python3",
      "display_name": "Python 3"
    },
    "language_info": {
      "name": "python"
    }
  },
  "cells": [
    {
      "cell_type": "markdown",
      "metadata": {
        "id": "view-in-github",
        "colab_type": "text"
      },
      "source": [
        "<a href=\"https://colab.research.google.com/github/TEJ66/TEJ66/blob/main/17122021.ipynb\" target=\"_parent\"><img src=\"https://colab.research.google.com/assets/colab-badge.svg\" alt=\"Open In Colab\"/></a>"
      ]
    },
    {
      "cell_type": "code",
      "source": [
        "a = int(input(\"ENTER YOUR FIRST VALUE :\"))\n",
        "b = int(input(\"ENTER YOUR SECOND VALUE :\"))\n",
        "\n",
        "print(a+b)\n",
        "print(a-b)\n",
        "print(a*b)\n",
        "print(a/b)\n",
        "print(a%b)\n",
        "print(a**b)\n",
        "if a>b :\n",
        "  print(\"a is largest.\")\n",
        "else:\n",
        "  print(\"b is largest.\")\n",
        "if a>0 :\n",
        "  print(\"Yes,a is greatest\")\n",
        "else:\n",
        "  print(\"No,a is not greatest\")\n",
        "if b<=3:\n",
        "  print(\"Yes,b is greatest\")\n",
        "else:\n",
        "  print(\"No,b is not greatest\")\n",
        "if b != 4 :\n",
        "  print(\"b is not equal\")\n",
        "else :\n",
        "  print(\"b is equal\") \n",
        "if a ==2 :\n",
        "  print(\"a is equal\")\n",
        "else :\n",
        "  print(\"a is not equal\")\n"
      ],
      "metadata": {
        "colab": {
          "base_uri": "https://localhost:8080/"
        },
        "id": "EIbRW8KVitaF",
        "outputId": "5e3291dc-4a04-414a-912f-02942c3ae5b0"
      },
      "execution_count": 3,
      "outputs": [
        {
          "output_type": "stream",
          "name": "stdout",
          "text": [
            "ENTER YOUR FIRST VALUE :2\n",
            "ENTER YOUR SECOND VALUE :4\n",
            "6\n",
            "-2\n",
            "8\n",
            "0.5\n",
            "2\n",
            "16\n",
            "b is largest.\n",
            "Yes,a is greatest\n",
            "No,b is not greatest\n",
            "b is equal\n",
            "a is equal\n"
          ]
        }
      ]
    }
  ]
}